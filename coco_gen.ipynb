{
 "cells": [
  {
   "cell_type": "code",
   "execution_count": 1,
   "metadata": {},
   "outputs": [],
   "source": [
    "import os\n",
    "# os.environ['CUDA_VISIBLE_DEVICES'] = '2'"
   ]
  },
  {
   "cell_type": "code",
   "execution_count": 2,
   "metadata": {},
   "outputs": [
    {
     "name": "stderr",
     "output_type": "stream",
     "text": [
      "/home/tiger/.local/lib/python3.9/site-packages/mmcv/__init__.py:20: UserWarning: On January 1, 2023, MMCV will release v2.0.0, in which it will remove components related to the training process and add a data transformation module. In addition, it will rename the package names mmcv to mmcv-lite and mmcv-full to mmcv. See https://github.com/open-mmlab/mmcv/blob/master/docs/en/compatibility.md for more details.\n",
      "  warnings.warn(\n",
      "/home/tiger/.local/lib/python3.9/site-packages/bytedmetrics/__init__.py:10: UserWarning: bytedmetrics is renamed to bytedance.metrics, please using `bytedance.metrics` instead of `bytedmetrics`\n",
      "  warnings.warn(\"bytedmetrics is renamed to bytedance.metrics, please using `bytedance.metrics` instead of `bytedmetrics`\")\n"
     ]
    }
   ],
   "source": [
    "import argparse\n",
    "import torch\n",
    "import json\n",
    "from unilatent import UniLatentPipeline\n",
    "\n",
    "from data.builder import build_dataset, build_dataloader\n",
    "from aspect_ratio_sampler import AspectRatioBatchSampler\n",
    "from torch.utils.data import RandomSampler\n",
    "\n",
    "from tqdm import tqdm\n",
    "from accelerate import Accelerator"
   ]
  },
  {
   "cell_type": "code",
   "execution_count": 3,
   "metadata": {},
   "outputs": [
    {
     "name": "stderr",
     "output_type": "stream",
     "text": [
      "2024-07-27 00:51:29,738 - PixArt - WARNING - Using valid_num=0 in config file. Available 40 aspect_ratios: ['0.25', '0.26', '0.27', '0.28', '0.32', '0.33', '0.35', '0.4', '0.42', '0.48', '0.5', '0.52', '0.57', '0.6', '0.68', '0.72', '0.78', '0.82', '0.88', '0.94', '1.0', '1.07', '1.13', '1.21', '1.29', '1.38', '1.46', '1.67', '1.75', '2.0', '2.09', '2.4', '2.5', '2.89', '3.0', '3.11', '3.62', '3.75', '3.88', '4.0']\n",
      "Detected kernel version 5.4.143, which is below the recommended minimum of 5.5.0; this can cause the process to hang. It is recommended to upgrade the kernel to the minimum version or higher.\n"
     ]
    },
    {
     "name": "stdout",
     "output_type": "stream",
     "text": [
      "Constructing dataset FlexibleInternalDataMS...\n",
      "Dataset FlexibleInternalDataMS constructed. time: 0.06 s, length (use/ori): 5000/5000\n"
     ]
    }
   ],
   "source": [
    "data_config = {\n",
    "    'type': 'FlexibleInternalDataMS',\n",
    "    'roots': [\n",
    "        '/mnt/bn/us-aigc-temp/henry/coco_2014/val/val2014/',\n",
    "    ],\n",
    "    'json_lst': [\n",
    "        '/mnt/bn/us-aigc-temp/henry/test.json',\n",
    "    ],\n",
    "    'load_vae_feat': False,\n",
    "    'load_t5_feat': False\n",
    "}\n",
    "dataset = build_dataset(\n",
    "    data_config, resolution=512, aspect_ratio_type='ASPECT_RATIO_512',\n",
    "    real_prompt_ratio=0.0, max_length=77, return_image_id=True\n",
    ")\n",
    "batch_sampler = AspectRatioBatchSampler(sampler=RandomSampler(dataset), dataset=dataset,\n",
    "                                    batch_size=1, aspect_ratios=dataset.aspect_ratio, drop_last=True,\n",
    "                                    ratio_nums=dataset.ratio_nums, valid_num=0)\n",
    "dataloader = build_dataloader(dataset, batch_sampler=batch_sampler, num_workers=10)\n",
    "\n",
    "accelerator = Accelerator(\n",
    "        mixed_precision='fp16',\n",
    "    )"
   ]
  },
  {
   "cell_type": "code",
   "execution_count": 4,
   "metadata": {},
   "outputs": [],
   "source": [
    "def prepare(accelerator, pipe):\n",
    "    (\n",
    "        pipe.transformer,\n",
    "        pipe.text_encoder, \n",
    "        pipe.text_encoder_2,\n",
    "        pipe.clip_image_encoder,\n",
    "        pipe.text_decoder,\n",
    "        pipe.vae\n",
    "    ) = accelerator.prepare(\n",
    "        pipe.transformer,\n",
    "        pipe.text_encoder, \n",
    "        pipe.text_encoder_2,\n",
    "        pipe.clip_image_encoder,\n",
    "        pipe.text_decoder,\n",
    "        pipe.vae\n",
    "    )\n",
    "\n",
    "    return pipe\n",
    "\n",
    "def dift_sampler(batch, pipe, index, block_num):\n",
    "    index_ = torch.zeros(size=(1,), dtype=torch.long) + index\n",
    "    embeds, pooled_embeds = pipe.dift_features(batch[0][:1], index_, return_layer=block_num)\n",
    "    embeds = torch.cat([embeds, pooled_embeds], axis=1)\n",
    "    decoded_tokens = pipe.text_decoder.generate_captions(embeds, \n",
    "                        eos_token_id=pipe.decoder_tokenizer.eos_token_id, device=accelerator.device)[0]\n",
    "    decoded_text = pipe.decoder_tokenizer.batch_decode(decoded_tokens)[0]\n",
    "    return decoded_text\n",
    "\n",
    "def clip_sampler(batch, pipe):\n",
    "    embeds, pooled_embeds = pipe.encode_image(batch[0][:1])\n",
    "    embeds = torch.cat([embeds, pooled_embeds], axis=1)\n",
    "    decoded_tokens = pipe.text_decoder.generate_captions(embeds, \n",
    "                        eos_token_id=pipe.decoder_tokenizer.eos_token_id, device=accelerator.device)[0]\n",
    "    decoded_text = pipe.decoder_tokenizer.batch_decode(decoded_tokens)[0]\n",
    "    return decoded_text\n",
    "\n",
    "def generate_captions(pipe, dataloader, save_path, sampler, sampler_kwargs={}):\n",
    "    json_list = []\n",
    "    progbar = tqdm(iter(dataloader))\n",
    "    for i, batch in enumerate(progbar):\n",
    "        with torch.no_grad():\n",
    "            decoded_text = sampler(batch, pipe, **sampler_kwargs)\n",
    "        \n",
    "        caption = decoded_text.strip('!').replace('<|endoftext|>', '').replace('<|EOS|>', '').strip()\n",
    "        json_list.append({'image_id': batch[-1]['image_id'].item(), 'caption': caption})\n",
    "\n",
    "        progbar.set_description(f\"Image: {i:05d} | Predicted: {caption} | True: {batch[1][0]}\")\n",
    "\n",
    "        if (i + 1) % 50 == 0:\n",
    "            with open(save_path, 'w') as f:\n",
    "                test = json.dump(json_list, f)\n",
    "\n",
    "    return json_list"
   ]
  },
  {
   "cell_type": "code",
   "execution_count": 5,
   "metadata": {},
   "outputs": [
    {
     "name": "stdout",
     "output_type": "stream",
     "text": [
      "Loading pipeline for index_000_block_6:\n"
     ]
    },
    {
     "data": {
      "application/vnd.jupyter.widget-view+json": {
       "model_id": "58e1123c3ab645fe954ea68b1ffc439a",
       "version_major": 2,
       "version_minor": 0
      },
      "text/plain": [
       "Loading pipeline components...:   0%|          | 0/11 [00:00<?, ?it/s]"
      ]
     },
     "metadata": {},
     "output_type": "display_data"
    },
    {
     "name": "stderr",
     "output_type": "stream",
     "text": [
      "Some weights of TextDecoder were not initialized from the model checkpoint at /mnt/bn/us-aigc-temp/henry/data/dift/index_000_block_6/epoch_0_step_34999/text_decoder and are newly initialized: ['transformer.lm_head.weight']\n",
      "You should probably TRAIN this model on a down-stream task to be able to use it for predictions and inference.\n"
     ]
    },
    {
     "name": "stdout",
     "output_type": "stream",
     "text": [
      "Running sampler for index_000_block_6:\n"
     ]
    },
    {
     "name": "stderr",
     "output_type": "stream",
     "text": [
      "Image: 00151 | Predicted: a man in a suit and tie standing on the red carpet. | True: A building front at the corner of N. Astor and E. Division St.        | 151/5000 [02:23<1:14:32,  1.08it/s]                                                         \n",
      "Image: 00151 | Predicted: a man in a suit and tie standing on the red carpet. | True: A building front at the corner of N. Astor and E. Division St.\n",
      "Image: 00309 | Predicted: he front view of this two story house. | True: Various people are acknowledging life and having a good time.          | 309/5000 [04:50<1:13:05,  1.07it/s]                                                                                                                                                                                                                \n",
      "Image: 00309 | Predicted: he front view of this two story house. | True: Various people are acknowledging life and having a good time. \n",
      "Image: 00730 | Predicted: a kitchen with white cabinets and black counter tops. | True: A photo of an outside with various things in the scene.        | 730/5000 [11:19<1:04:32,  1.10it/s]                                                                \n",
      "Image: 00730 | Predicted: a kitchen with white cabinets and black counter tops. | True: A photo of an outside with various things in the scene.\n",
      "Image: 01034 | Predicted: a man in a suit and tie standing on the red carpet. | True: A dog is carrying a blue round Frisbee in his mouth as he walks across the grass.1<1:00:52,  1.09it/s]                                                                \n",
      "Image: 01034 | Predicted: a man in a suit and tie standing on the red carpet. | True: A dog is carrying a blue round Frisbee in his mouth as he walks across the grass.\n",
      "Image: 01241 | Predicted: a man in a suit and tie standing on the red carpet. | True: People are in a boat in the rain with umbrellas. loading platform.:  25%|██▍       | 1241/5000 [19:14<59:33,  1.05it/s]                                         \n",
      "Image: 01241 | Predicted: a man in a suit and tie standing on the red carpet. | True: People are in a boat in the rain with umbrellas.\n",
      "Image: 01844 | Predicted: a man in a suit and tie standing on the red carpet. | True: a plate with an open sandwich next to a little bowl of soup and a wine glass7:21,  1.11it/s]                                                                                  \n",
      "Image: 01844 | Predicted: a man in a suit and tie standing on the red carpet. | True: a plate with an open sandwich next to a little bowl of soup and a wine glass\n",
      "Image: 02157 | Predicted: a man in a suit and tie standing on the red carpet. | True: A baseball player swinging his bat during a game.  | 2157/5000 [33:27<49:48,  1.05s/it]                                                                               \n",
      "Image: 02157 | Predicted: a man in a suit and tie standing on the red carpet. | True: A baseball player swinging his bat during a game. \n",
      "Image: 02159 | Predicted: he back view of a woman in a wedding dress. | True: A stop sign posted in a foreign languageKEA kart enjoying a snack. :  43%|████▎     | 2159/5000 [33:29<50:04,  1.06s/it]\n",
      "Image: 02159 | Predicted: he back view of a woman in a wedding dress. | True: A stop sign posted in a foreign language\n",
      "Image: 02231 | Predicted: he back view of a woman in a wedding dress. | True: An item inside the picture which appears to be truly astounding.wo way road.:  45%|████▍     | 2231/5000 [34:41<42:42,  1.08it/s]                         \n",
      "Image: 02231 | Predicted: he back view of a woman in a wedding dress. | True: An item inside the picture which appears to be truly astounding.\n",
      "Image: 02418 | Predicted: he front view of this two story house. | True: It is a territory with numerous things to watch. near a train station.:  48%|████▊     | 2418/5000 [37:35<39:13,  1.10it/s]                                                  \n",
      "Image: 02418 | Predicted: he front view of this two story house. | True: It is a territory with numerous things to watch. \n",
      "Image: 03761 | Predicted: he front view of this two story house. | True: A person riding a baby blue motorcycle near haystacksy train station:  75%|███████▌  | 3761/5000 [58:32<19:25,  1.06it/s]                                                                      \n",
      "Image: 03761 | Predicted: he front view of this two story house. | True: A person riding a baby blue motorcycle near haystacks\n",
      "Image: 03852 | Predicted: a man in a suit and tie standing on the red carpet. | True: An individual is in the open view in the image..:  77%|███████▋  | 3852/5000 [59:58<18:09,  1.05it/s]                    \n",
      "Image: 03852 | Predicted: a man in a suit and tie standing on the red carpet. | True: An individual is in the open view in the image.\n",
      "Image: 04217 | Predicted: a man in a suit and tie is looking at the camera. | True: a baseball batter at citifield is about to hit the baseball17/5000 [1:05:41<12:42,  1.03it/s]                                                                                                     \n",
      "Image: 04217 | Predicted: a man in a suit and tie is looking at the camera. | True: a baseball batter at citifield is about to hit the baseball\n",
      "Image: 04462 | Predicted: a man in a suit and tie standing on the red carpet. | True: A boy throwing out a pitch in a ball game.██████▉ | 4462/5000 [1:09:29<08:12,  1.09it/s]                                                                                   \n",
      "Image: 04462 | Predicted: a man in a suit and tie standing on the red carpet. | True: A boy throwing out a pitch in a ball game.\n",
      "Image: 04627 | Predicted: a kitchen with white cabinets and black counter tops. | True: Two trains in an urban station with people waiting.█████████▎| 4627/5000 [1:12:03<05:44,  1.08it/s]                                                                                   \n",
      "\n",
      "Image: 04627 | Predicted: a kitchen with white cabinets and black counter tops. | True: Two trains in an urban station with people waiting.\n",
      "\n",
      "Image: 04851 | Predicted: he front view of this two story house. | True: A photograph of an outside with numerous things in the scene.ble.:  97%|█████████▋| 4851/5000 [1:15:30<02:19,  1.07it/s]                                                                                \n",
      "Image: 04851 | Predicted: he front view of this two story house. | True: A photograph of an outside with numerous things in the scene.\n",
      "Image: 04999 | Predicted: a man in a suit and tie standing on the red carpet. | True: A sink with a toothbrush holder, soap and a mirror around it. : 100%|██████████| 5000/5000 [1:17:50<00:00,  1.07it/s]                                                      "
     ]
    },
    {
     "name": "stdout",
     "output_type": "stream",
     "text": [
      "Loading pipeline for index_250_block_6:\n"
     ]
    },
    {
     "name": "stderr",
     "output_type": "stream",
     "text": [
      "\n"
     ]
    },
    {
     "data": {
      "application/vnd.jupyter.widget-view+json": {
       "model_id": "36f07f8872974d8baf0d4d1e926a341c",
       "version_major": 2,
       "version_minor": 0
      },
      "text/plain": [
       "Loading pipeline components...:   0%|          | 0/11 [00:00<?, ?it/s]"
      ]
     },
     "metadata": {},
     "output_type": "display_data"
    },
    {
     "name": "stderr",
     "output_type": "stream",
     "text": [
      "Some weights of TextDecoder were not initialized from the model checkpoint at /mnt/bn/us-aigc-temp/henry/data/dift/index_250_block_6/epoch_0_step_34999/text_decoder and are newly initialized: ['transformer.lm_head.weight']\n",
      "You should probably TRAIN this model on a down-stream task to be able to use it for predictions and inference.\n"
     ]
    },
    {
     "name": "stdout",
     "output_type": "stream",
     "text": [
      "Running sampler for index_250_block_6:\n"
     ]
    },
    {
     "name": "stderr",
     "output_type": "stream",
     "text": [
      "Image: 00176 | Predicted: side side view of a man wearing a black and white checkered shirt. | True: A stop sign posted in a foreign languageth a green fence.:   4%|▎         | 176/5000 [03:15<1:27:18,  1.09s/it]                                                                   \n",
      "Image: 00176 | Predicted: side side view of a man wearing a black and white checkered shirt. | True: A stop sign posted in a foreign language\n",
      "Image: 00225 | Predicted: side side view of a man wearing a black and white checkered shirt. | True: A boy throwing out a pitch in a ball game.4%|▍         | 225/5000 [04:08<1:24:55,  1.07s/it]                                                          \n",
      "Image: 00225 | Predicted: side side view of a man wearing a black and white checkered shirt. | True: A boy throwing out a pitch in a ball game.\n",
      "Image: 00376 | Predicted: side side view of a man wearing a black and white checkered shirt. | True: A photograph of an outside with numerous things in the scene.dress.:   8%|▊         | 376/5000 [06:48<1:22:28,  1.07s/it]                      \n",
      "Image: 00376 | Predicted: side side view of a man wearing a black and white checkered shirt. | True: A photograph of an outside with numerous things in the scene.\n",
      "Image: 00655 | Predicted: side side view of a man wearing a black and white checkered shirt. | True: a baseball batter at citifield is about to hit the baseball%|█▎        | 655/5000 [11:43<1:16:55,  1.06s/it]                                           \n",
      "Image: 00655 | Predicted: side side view of a man wearing a black and white checkered shirt. | True: a baseball batter at citifield is about to hit the baseball\n",
      "Image: 00929 | Predicted: side side view of a man wearing a black and white checkered shirt. | True: Two trains in an urban station with people waiting.next to it:  19%|█▊        | 929/5000 [16:34<1:10:57,  1.05s/it]                                                                       \n",
      "\n",
      "Image: 00929 | Predicted: side side view of a man wearing a black and white checkered shirt. | True: Two trains in an urban station with people waiting.\n",
      "\n",
      "Image: 02725 | Predicted: side side view of a man wearing a black and white checkered shirt. | True: A dog is carrying a blue round Frisbee in his mouth as he walks across the grass. [48:18<40:26,  1.07s/it]                                                                                                                                                                                      \n",
      "Image: 02725 | Predicted: side side view of a man wearing a black and white checkered shirt. | True: A dog is carrying a blue round Frisbee in his mouth as he walks across the grass.\n",
      "Image: 02911 | Predicted: side side view of a man wearing a black and white checkered shirt. | True: Various people are acknowledging life and having a good time. air of young skateboarders, one of whom is much further ahead of the other.:  58%|█████▊    | 2911/5000 [51:36<37:25,  1.07s/it]\n",
      "Image: 02911 | Predicted: side side view of a man wearing a black and white checkered shirt. | True: Various people are acknowledging life and having a good time. \n",
      "Image: 03081 | Predicted: side side view of a man wearing a black and white checkered shirt. | True: It is a territory with numerous things to watch. |██████▏   | 3081/5000 [54:37<35:17,  1.10s/it]                                                \n",
      "Image: 03081 | Predicted: side side view of a man wearing a black and white checkered shirt. | True: It is a territory with numerous things to watch. \n",
      "Image: 03468 | Predicted: side side view of a man wearing a black and white checkered shirt. | True: People are in a boat in the rain with umbrellas.mpty room. :  69%|██████▉   | 3468/5000 [1:01:28<26:37,  1.04s/it]                                                      \n",
      "Image: 03468 | Predicted: side side view of a man wearing a black and white checkered shirt. | True: People are in a boat in the rain with umbrellas.\n",
      "Image: 03520 | Predicted: side side view of a man wearing a black and white checkered shirt. | True: A photo of an outside with various things in the scene.k:  70%|███████   | 3520/5000 [1:02:24<26:11,  1.06s/it]                                       \n",
      "Image: 03520 | Predicted: side side view of a man wearing a black and white checkered shirt. | True: A photo of an outside with various things in the scene.\n",
      "Image: 03535 | Predicted: side side view of a man wearing a black and white checkered shirt. | True: An item inside the picture which appears to be truly astounding.:  71%|███████   | 3535/5000 [1:02:39<25:41,  1.05s/it]       \n",
      "Image: 03535 | Predicted: side side view of a man wearing a black and white checkered shirt. | True: An item inside the picture which appears to be truly astounding.\n",
      "Image: 03560 | Predicted: side side view of a man wearing a black and white checkered shirt. | True: a plate with an open sandwich next to a little bowl of soup and a wine glass6<25:38,  1.07s/it]                                                                                    \n",
      "Image: 03560 | Predicted: side side view of a man wearing a black and white checkered shirt. | True: a plate with an open sandwich next to a little bowl of soup and a wine glass\n",
      "Image: 03901 | Predicted: side side view of a man wearing a black and white checkered shirt. | True: An individual is in the open view in the image.00 [1:09:09<18:59,  1.04s/it]                                                                                            \n",
      "Image: 03901 | Predicted: side side view of a man wearing a black and white checkered shirt. | True: An individual is in the open view in the image.\n",
      "Image: 03930 | Predicted: side side view of a man wearing a black and white checkered shirt. | True: A building front at the corner of N. Astor and E. Division St.████▊  | 3930/5000 [1:09:40<18:56,  1.06s/it]                  \n",
      "Image: 03930 | Predicted: side side view of a man wearing a black and white checkered shirt. | True: A building front at the corner of N. Astor and E. Division St.\n",
      "Image: 04796 | Predicted: side side view of a man wearing a black and white checkered shirt. | True: A person riding a baby blue motorcycle near haystackst his table.  :  96%|█████████▌| 4796/5000 [1:24:57<03:23,  1.00it/s]                                                                      \n",
      "Image: 04796 | Predicted: side side view of a man wearing a black and white checkered shirt. | True: A person riding a baby blue motorcycle near haystacks\n",
      "Image: 04863 | Predicted: side side view of a man wearing a black and white striped shirt. | True: A baseball player swinging his bat during a game. %|█████████▋| 4863/5000 [1:26:07<02:26,  1.07s/it]                                    \n",
      "Image: 04863 | Predicted: side side view of a man wearing a black and white striped shirt. | True: A baseball player swinging his bat during a game. \n",
      "Image: 04999 | Predicted: side side view of a man wearing a black and white checkered shirt. | True: A guy standing next to a skateboard on a hillside.: 100%|██████████| 5000/5000 [1:28:32<00:00,  1.06s/it]                                                "
     ]
    },
    {
     "name": "stdout",
     "output_type": "stream",
     "text": [
      "Loading pipeline for index_500_block_6:\n"
     ]
    },
    {
     "name": "stderr",
     "output_type": "stream",
     "text": [
      "\n"
     ]
    },
    {
     "data": {
      "application/vnd.jupyter.widget-view+json": {
       "model_id": "60539d1348e641639dcc07f193a6668c",
       "version_major": 2,
       "version_minor": 0
      },
      "text/plain": [
       "Loading pipeline components...:   0%|          | 0/11 [00:00<?, ?it/s]"
      ]
     },
     "metadata": {},
     "output_type": "display_data"
    },
    {
     "name": "stderr",
     "output_type": "stream",
     "text": [
      "Some weights of TextDecoder were not initialized from the model checkpoint at /mnt/bn/us-aigc-temp/henry/data/dift/index_500_block_6/epoch_0_step_34999/text_decoder and are newly initialized: ['transformer.lm_head.weight']\n",
      "You should probably TRAIN this model on a down-stream task to be able to use it for predictions and inference.\n"
     ]
    },
    {
     "name": "stdout",
     "output_type": "stream",
     "text": [
      "Running sampler for index_500_block_6:\n"
     ]
    },
    {
     "name": "stderr",
     "output_type": "stream",
     "text": [
      "Image: 00069 | Predicted: a man in a suit and tie standing outside. | True: A photo of an outside with various things in the scene.69/5000 [00:53<1:04:17,  1.28it/s]                                                      \n",
      "Image: 00069 | Predicted: a man in a suit and tie standing outside. | True: A photo of an outside with various things in the scene.\n",
      "Image: 00465 | Predicted: a man! a man in a suit and tie. | True: A person riding a baby blue motorcycle near haystacksing.:   9%|▉         | 465/5000 [06:01<57:12,  1.32it/s]                                                                    \n",
      "Image: 00465 | Predicted: a man! a man in a suit and tie. | True: A person riding a baby blue motorcycle near haystacks\n",
      "Image: 00483 | Predicted: a man in a suit and tie standing outside. | True: Various people are acknowledging life and having a good time. | 483/5000 [06:15<59:45,  1.26it/s]                                             \n",
      "Image: 00483 | Predicted: a man in a suit and tie standing outside. | True: Various people are acknowledging life and having a good time. \n",
      "Image: 00847 | Predicted: a man! a man in a suit and tie. | True: a baseball batter at citifield is about to hit the baseballxed dish that includes broccoli and pasta. :  17%|█▋        | 847/5000 [10:59<55:28,  1.25it/s]                                 \n",
      "Image: 00847 | Predicted: a man! a man in a suit and tie. | True: a baseball batter at citifield is about to hit the baseball\n",
      "Image: 01458 | Predicted: a man! a man in a suit and tie. | True: A baseball player swinging his bat during a game. ards in the ocean.:  29%|██▉       | 1458/5000 [18:57<45:27,  1.30it/s]                                                                                                                                                                                 \n",
      "Image: 01458 | Predicted: a man! a man in a suit and tie. | True: A baseball player swinging his bat during a game. \n",
      "Image: 01908 | Predicted: a man in a suit and tie standing outside. | True: Two trains in an urban station with people waiting.roup of people.:  38%|███▊      | 1908/5000 [24:49<39:04,  1.32it/s]                                    \n",
      "\n",
      "Image: 01908 | Predicted: a man in a suit and tie standing outside. | True: Two trains in an urban station with people waiting.\n",
      "\n",
      "Image: 01927 | Predicted: a man in a white shirt and black shirt. | True: It is a territory with numerous things to watch.  ground.:  39%|███▊      | 1927/5000 [25:04<40:35,  1.26it/s]            \n",
      "Image: 01927 | Predicted: a man in a white shirt and black shirt. | True: It is a territory with numerous things to watch. \n",
      "Image: 01933 | Predicted: a man in a suit and tie standing outside. | True: An item inside the picture which appears to be truly astounding.██▊      | 1933/5000 [25:08<39:35,  1.29it/s]                                  \n",
      "Image: 01933 | Predicted: a man in a suit and tie standing outside. | True: An item inside the picture which appears to be truly astounding.\n",
      "Image: 02140 | Predicted: a man in a suit and tie standing outside. | True: An individual is in the open view in the image..:  43%|████▎     | 2140/5000 [27:50<36:36,  1.30it/s]                                    \n",
      "Image: 02140 | Predicted: a man in a suit and tie standing outside. | True: An individual is in the open view in the image.\n",
      "Image: 03037 | Predicted: a man in a suit and tie standing outside. | True: a plate with an open sandwich next to a little bowl of soup and a wine glass0 [39:34<25:17,  1.29it/s]                                                                     \n",
      "Image: 03037 | Predicted: a man in a suit and tie standing outside. | True: a plate with an open sandwich next to a little bowl of soup and a wine glass\n",
      "Image: 03089 | Predicted: a man in a suit and tie standing outside. | True: A boy throwing out a pitch in a ball game.ffic lanes lies beneath an overpass.:  62%|██████▏   | 3089/5000 [40:15<24:30,  1.30it/s]                                \n",
      "Image: 03089 | Predicted: a man in a suit and tie standing outside. | True: A boy throwing out a pitch in a ball game.\n",
      "Image: 03263 | Predicted: a man in a suit and tie standing outside. | True: A photograph of an outside with numerous things in the scene.5%|██████▌   | 3263/5000 [42:30<22:16,  1.30it/s]                                                     \n",
      "Image: 03263 | Predicted: a man in a suit and tie standing outside. | True: A photograph of an outside with numerous things in the scene.\n",
      "Image: 04432 | Predicted: a man in a suit and tie standing outside. | True: A dog is carrying a blue round Frisbee in his mouth as he walks across the grass.31it/s]                                                                                                      \n",
      "Image: 04432 | Predicted: a man in a suit and tie standing outside. | True: A dog is carrying a blue round Frisbee in his mouth as he walks across the grass.\n",
      "Image: 04555 | Predicted: a man! a man in a suit and tie. | True: A building front at the corner of N. Astor and E. Division St.91%|█████████ | 4555/5000 [59:22<05:50,  1.27it/s]                                                                           \n",
      "Image: 04555 | Predicted: a man! a man in a suit and tie. | True: A building front at the corner of N. Astor and E. Division St.\n",
      "Image: 04611 | Predicted: a man in a black jacket and white shirt. | True: People are in a boat in the rain with umbrellas.:  92%|█████████▏| 4611/5000 [1:00:05<05:08,  1.26it/s]                                       \n",
      "Image: 04611 | Predicted: a man in a black jacket and white shirt. | True: People are in a boat in the rain with umbrellas.\n",
      "Image: 04630 | Predicted: a man in a suit and tie standing outside. | True: A stop sign posted in a foreign language█████████▎| 4630/5000 [1:00:20<04:42,  1.31it/s]                         \n",
      "Image: 04630 | Predicted: a man in a suit and tie standing outside. | True: A stop sign posted in a foreign language\n",
      "Image: 04999 | Predicted: a man in a suit and tie standing outside. | True: A patch of wild flowers growing next to a stop sign.: 100%|██████████| 5000/5000 [1:05:08<00:00,  1.28it/s]                                                        "
     ]
    },
    {
     "name": "stdout",
     "output_type": "stream",
     "text": [
      "Loading pipeline for index_750_block_6:\n"
     ]
    },
    {
     "name": "stderr",
     "output_type": "stream",
     "text": [
      "\n"
     ]
    },
    {
     "data": {
      "application/vnd.jupyter.widget-view+json": {
       "model_id": "d3e880ad123141b8b51ab5e9f46190fc",
       "version_major": 2,
       "version_minor": 0
      },
      "text/plain": [
       "Loading pipeline components...:   0%|          | 0/11 [00:00<?, ?it/s]"
      ]
     },
     "metadata": {},
     "output_type": "display_data"
    },
    {
     "name": "stderr",
     "output_type": "stream",
     "text": [
      "Some weights of TextDecoder were not initialized from the model checkpoint at /mnt/bn/us-aigc-temp/henry/data/dift/index_750_block_6/epoch_0_step_34999/text_decoder and are newly initialized: ['transformer.lm_head.weight']\n",
      "You should probably TRAIN this model on a down-stream task to be able to use it for predictions and inference.\n"
     ]
    },
    {
     "name": "stdout",
     "output_type": "stream",
     "text": [
      "Running sampler for index_750_block_6:\n"
     ]
    },
    {
     "name": "stderr",
     "output_type": "stream",
     "text": [
      "Image: 00393 | Predicted: a man in a suit and tie standing in front of a white background. | True: Two trains in an urban station with people waiting.<1:18:37,  1.02s/it]                                                                                  \n",
      "\n",
      "Image: 00393 | Predicted: a man in a suit and tie standing in front of a white background. | True: Two trains in an urban station with people waiting.\n",
      "\n",
      "Image: 00402 | Predicted: a man in a suit and tie standing. | True: some people and a dog under an open umbrella:   8%|▊         | 403/5000 [06:48<1:18:51,  1.03s/it]                                        "
     ]
    }
   ],
   "source": [
    "for block_num in [6, 12]:\n",
    "    for index in [0, 250, 500, 750]:\n",
    "        name = f'index_{index:03d}_block_{block_num}'\n",
    "        save_path = f'/mnt/bn/us-aigc-temp/henry/data/captions/dift/dift_{name}_step_34999.json'\n",
    "        load_path = f'/mnt/bn/us-aigc-temp/henry/data/dift/{name}/epoch_0_step_34999/'\n",
    "        print(f\"Loading pipeline for {name}:\")\n",
    "        pipe = UniLatentPipeline.from_pretrained(load_path, torch_dtype=torch.float32)\n",
    "\n",
    "        pipe = prepare(accelerator, pipe)\n",
    "        print(f\"Running sampler for {name}:\")\n",
    "        sampler_kwargs = {'index': index, 'block_num': block_num}\n",
    "        generate_captions(pipe, dataloader, save_path, dift_sampler, sampler_kwargs)"
   ]
  },
  {
   "cell_type": "code",
   "execution_count": null,
   "metadata": {},
   "outputs": [],
   "source": []
  }
 ],
 "metadata": {
  "kernelspec": {
   "display_name": "Python 3.9.2 64-bit",
   "language": "python",
   "name": "python3"
  },
  "language_info": {
   "codemirror_mode": {
    "name": "ipython",
    "version": 3
   },
   "file_extension": ".py",
   "mimetype": "text/x-python",
   "name": "python",
   "nbconvert_exporter": "python",
   "pygments_lexer": "ipython3",
   "version": "3.9.2"
  },
  "orig_nbformat": 4,
  "vscode": {
   "interpreter": {
    "hash": "31f2aee4e71d21fbe5cf8b01ff0e069b9275f58929596ceb00d14d90e3e16cd6"
   }
  }
 },
 "nbformat": 4,
 "nbformat_minor": 2
}
